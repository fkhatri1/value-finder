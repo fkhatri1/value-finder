{
 "cells": [
  {
   "cell_type": "markdown",
   "metadata": {},
   "source": [
    "TItle"
   ]
  },
  {
   "cell_type": "code",
   "execution_count": 8,
   "metadata": {},
   "outputs": [],
   "source": [
    "import pandas as pd\n",
    "from OutsideWorld.Finance import Stock\n",
    "s = Stock.Stock()\n",
    "\n",
    "symbol = \"SBUX\"\n",
    "start_date = \"2019-01-01\"\n",
    "cash_flow_cols = [\"reportedCurrency\" ,\"freeCashFlow\" ,\"capitalExpenditure\" ,\"debtRepayment\" ,\"commonStockRepurchased\", \"dividendsPaid\"]\n",
    "\n",
    "\n",
    "mc = s.get_historical_market_cap(symbol, start_date)[[\"marketCap\", ]]\n",
    "cf = s.get_historical_cash_flow_statement(symbol, start_date)[cash_flow_cols]\n"
   ]
  },
  {
   "cell_type": "markdown",
   "metadata": {},
   "source": [
    "#### Step 2 - Merge daily close price with cash flow data"
   ]
  },
  {
   "cell_type": "code",
   "execution_count": 9,
   "metadata": {},
   "outputs": [
    {
     "data": {
      "text/html": [
       "<div>\n",
       "<style scoped>\n",
       "    .dataframe tbody tr th:only-of-type {\n",
       "        vertical-align: middle;\n",
       "    }\n",
       "\n",
       "    .dataframe tbody tr th {\n",
       "        vertical-align: top;\n",
       "    }\n",
       "\n",
       "    .dataframe thead th {\n",
       "        text-align: right;\n",
       "    }\n",
       "</style>\n",
       "<table border=\"1\" class=\"dataframe\">\n",
       "  <thead>\n",
       "    <tr style=\"text-align: right;\">\n",
       "      <th></th>\n",
       "      <th>marketCap</th>\n",
       "      <th>reportedCurrency</th>\n",
       "      <th>freeCashFlow</th>\n",
       "      <th>capitalExpenditure</th>\n",
       "      <th>debtRepayment</th>\n",
       "      <th>commonStockRepurchased</th>\n",
       "      <th>dividendsPaid</th>\n",
       "    </tr>\n",
       "    <tr>\n",
       "      <th>date</th>\n",
       "      <th></th>\n",
       "      <th></th>\n",
       "      <th></th>\n",
       "      <th></th>\n",
       "      <th></th>\n",
       "      <th></th>\n",
       "      <th></th>\n",
       "    </tr>\n",
       "  </thead>\n",
       "  <tbody>\n",
       "    <tr>\n",
       "      <th>2019-01-02</th>\n",
       "      <td>77827199999</td>\n",
       "      <td>USD</td>\n",
       "      <td>1947600000</td>\n",
       "      <td>-431400000</td>\n",
       "      <td>-350000000</td>\n",
       "      <td>-5114700000</td>\n",
       "      <td>-446700000</td>\n",
       "    </tr>\n",
       "    <tr>\n",
       "      <th>2019-01-03</th>\n",
       "      <td>74451300000</td>\n",
       "      <td>USD</td>\n",
       "      <td>1947600000</td>\n",
       "      <td>-431400000</td>\n",
       "      <td>-350000000</td>\n",
       "      <td>-5114700000</td>\n",
       "      <td>-446700000</td>\n",
       "    </tr>\n",
       "    <tr>\n",
       "      <th>2019-01-04</th>\n",
       "      <td>76919700000</td>\n",
       "      <td>USD</td>\n",
       "      <td>1947600000</td>\n",
       "      <td>-431400000</td>\n",
       "      <td>-350000000</td>\n",
       "      <td>-5114700000</td>\n",
       "      <td>-446700000</td>\n",
       "    </tr>\n",
       "    <tr>\n",
       "      <th>2019-01-07</th>\n",
       "      <td>76919700000</td>\n",
       "      <td>USD</td>\n",
       "      <td>1947600000</td>\n",
       "      <td>-431400000</td>\n",
       "      <td>-350000000</td>\n",
       "      <td>-5114700000</td>\n",
       "      <td>-446700000</td>\n",
       "    </tr>\n",
       "    <tr>\n",
       "      <th>2019-01-08</th>\n",
       "      <td>76980200000</td>\n",
       "      <td>USD</td>\n",
       "      <td>1947600000</td>\n",
       "      <td>-431400000</td>\n",
       "      <td>-350000000</td>\n",
       "      <td>-5114700000</td>\n",
       "      <td>-446700000</td>\n",
       "    </tr>\n",
       "  </tbody>\n",
       "</table>\n",
       "</div>"
      ],
      "text/plain": [
       "              marketCap reportedCurrency  freeCashFlow  capitalExpenditure  \\\n",
       "date                                                                         \n",
       "2019-01-02  77827199999              USD    1947600000          -431400000   \n",
       "2019-01-03  74451300000              USD    1947600000          -431400000   \n",
       "2019-01-04  76919700000              USD    1947600000          -431400000   \n",
       "2019-01-07  76919700000              USD    1947600000          -431400000   \n",
       "2019-01-08  76980200000              USD    1947600000          -431400000   \n",
       "\n",
       "            debtRepayment  commonStockRepurchased  dividendsPaid  \n",
       "date                                                              \n",
       "2019-01-02     -350000000             -5114700000     -446700000  \n",
       "2019-01-03     -350000000             -5114700000     -446700000  \n",
       "2019-01-04     -350000000             -5114700000     -446700000  \n",
       "2019-01-07     -350000000             -5114700000     -446700000  \n",
       "2019-01-08     -350000000             -5114700000     -446700000  "
      ]
     },
     "execution_count": 9,
     "metadata": {},
     "output_type": "execute_result"
    }
   ],
   "source": [
    "df = pd.merge_asof(mc, cf, left_index=True, right_index=True)\n",
    "df.head()"
   ]
  },
  {
   "cell_type": "markdown",
   "metadata": {},
   "source": [
    "#### Step 3 - Compute DCF\n",
    "\n",
    "I'll assume a 4% discount, which translates to a factor of 26.\n",
    "I can multiply the Forward FCF by 26 to estimate the sum of discounted cash flow over the next 200 years.\n",
    "I'm also assuming no growth in the FCF which is not realistic but I can tweak the discount to account for this if I want."
   ]
  },
  {
   "cell_type": "code",
   "execution_count": null,
   "metadata": {},
   "outputs": [],
   "source": []
  }
 ],
 "metadata": {
  "kernelspec": {
   "display_name": "Python 3",
   "language": "python",
   "name": "python3"
  },
  "language_info": {
   "codemirror_mode": {
    "name": "ipython",
    "version": 3
   },
   "file_extension": ".py",
   "mimetype": "text/x-python",
   "name": "python",
   "nbconvert_exporter": "python",
   "pygments_lexer": "ipython3",
   "version": "3.10.12"
  },
  "orig_nbformat": 4
 },
 "nbformat": 4,
 "nbformat_minor": 2
}
