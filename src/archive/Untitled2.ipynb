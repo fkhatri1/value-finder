{
 "cells": [
  {
   "cell_type": "code",
   "execution_count": 3,
   "id": "9563479c-6099-4d4d-934e-0002f542f350",
   "metadata": {},
   "outputs": [
    {
     "name": "stdout",
     "output_type": "stream",
     "text": [
      "{'finnhub': 'c2d0ksiad3ibl1b87ub0', 'financialmodelingprep': 'e0ed6052477ed6f2212a4fe50b5ac6c0', 'marketstack': 'c4a91bad585fb5b8b45ebb1a98c32378'}\n"
     ]
    }
   ],
   "source": [
    "from collections import namedtuple\n",
    "import requests\n",
    "import pandas as pd\n",
    "import numpy as np\n",
    "import pickle\n",
    "import finnhub\n",
    "from datetime import date, datetime, timedelta\n",
    "from utils import get_config, get_credentials\n",
    "import logging\n",
    "print(get_credentials())"
   ]
  },
  {
   "cell_type": "code",
   "execution_count": 2,
   "id": "2a1e9441-3a34-40e7-8acf-ba2dbe87f328",
   "metadata": {},
   "outputs": [
    {
     "data": {
      "text/plain": [
       "[Earnings(date='2021-10-27', estimate=1.06, actual=1.03, surprise=-0.03, surprise_pct=-2.8302),\n",
       " Earnings(date='2021-07-27', estimate=1.01, actual=1.17, surprise=0.16, surprise_pct=15.8416),\n",
       " Earnings(date='2021-04-27', estimate=0.82, actual=1.05, surprise=0.23, surprise_pct=28.0488),\n",
       " Earnings(date='2021-01-26', estimate=0.86, actual=0.93, surprise=0.07, surprise_pct=8.1395),\n",
       " Earnings(date='2020-10-28', estimate=0.74, actual=0.78, surprise=0.04, surprise_pct=5.4054),\n",
       " Earnings(date='2020-07-27', estimate=0.39, actual=0.31, surprise=-0.08, surprise_pct=-20.5128),\n",
       " Earnings(date='2020-04-28', estimate=0.85, actual=0.87, surprise=0.02, surprise_pct=2.3529),\n",
       " Earnings(date='2020-02-06', estimate=0.85, actual=0.85, surprise=0.0, surprise_pct=0.0),\n",
       " Earnings(date='2019-10-28', estimate=0.89, actual=0.93, surprise=0.04, surprise_pct=4.4944),\n",
       " Earnings(date='2019-07-29', estimate=0.97, actual=1.08, surprise=0.11, surprise_pct=11.3402)]"
      ]
     },
     "execution_count": 2,
     "metadata": {},
     "output_type": "execute_result"
    }
   ],
   "source": [
    "API.get_earnings_events('EHC', 10)"
   ]
  },
  {
   "cell_type": "code",
   "execution_count": 45,
   "id": "4b39ba6e-cbee-44c5-8464-e432b8b73468",
   "metadata": {},
   "outputs": [],
   "source": [
    "from Screener import Screener\n",
    "\n",
    "symbols = Screener.screen()"
   ]
  },
  {
   "cell_type": "code",
   "execution_count": 46,
   "id": "66822f52-86fc-4e08-aefd-b2265a51c6c5",
   "metadata": {},
   "outputs": [
    {
     "data": {
      "text/plain": [
       "True"
      ]
     },
     "execution_count": 46,
     "metadata": {},
     "output_type": "execute_result"
    }
   ],
   "source": [
    "\"UA\" in symbols"
   ]
  },
  {
   "cell_type": "code",
   "execution_count": 1,
   "id": "6879989f-1368-46e0-9f5e-5d0d1eec3865",
   "metadata": {},
   "outputs": [],
   "source": [
    "from API import API, Profile, Earnings\n",
    "from Metrics import Metrics\n",
    "from Charting import chart\n",
    "def res_chart(symbol, dt):\n",
    "    d = API.get_historical_ohlc(symbol)\n",
    "    d['rsi'] = Metrics.get_rsi(d['close'], 21)\n",
    "    d = d[21:]\n",
    "    d['norm_rsi'] = Metrics.normalize(d['rsi'])\n",
    "    chart(d, col=\"norm_rsi\", dt=dt)"
   ]
  },
  {
   "cell_type": "code",
   "execution_count": 38,
   "id": "04900f64-09e4-4e06-8346-d75100bd2962",
   "metadata": {},
   "outputs": [
    {
     "data": {
      "image/png": "[encoded data removed]",
      "text/plain": [
       "<Figure size 432x288 with 1 Axes>"
      ]
     },
     "metadata": {
      "needs_background": "light"
     },
     "output_type": "display_data"
    }
   ],
   "source": [
    "res_chart(\"MLM\", \"2021-09-21\")"
   ]
  },
  {
   "cell_type": "code",
   "execution_count": 20,
   "id": "2fdb8239-8490-4a74-914c-45032c25f03e",
   "metadata": {},
   "outputs": [
    {
     "data": {
      "text/html": [
       "<div>\n",
       "<style scoped>\n",
       "    .dataframe tbody tr th:only-of-type {\n",
       "        vertical-align: middle;\n",
       "    }\n",
       "\n",
       "    .dataframe tbody tr th {\n",
       "        vertical-align: top;\n",
       "    }\n",
       "\n",
       "    .dataframe thead th {\n",
       "        text-align: right;\n",
       "    }\n",
       "</style>\n",
       "<table border=\"1\" class=\"dataframe\">\n",
       "  <thead>\n",
       "    <tr style=\"text-align: right;\">\n",
       "      <th></th>\n",
       "      <th>symbol</th>\n",
       "      <th>date</th>\n",
       "      <th>5-day</th>\n",
       "      <th>10-day</th>\n",
       "      <th>15-day</th>\n",
       "      <th>20-day</th>\n",
       "    </tr>\n",
       "  </thead>\n",
       "  <tbody>\n",
       "    <tr>\n",
       "      <th>0</th>\n",
       "      <td>1.0</td>\n",
       "      <td>1.0</td>\n",
       "      <td>1.0</td>\n",
       "      <td>1.0</td>\n",
       "      <td>1.0</td>\n",
       "      <td>1.0</td>\n",
       "    </tr>\n",
       "    <tr>\n",
       "      <th>1</th>\n",
       "      <td>2.0</td>\n",
       "      <td>1.0</td>\n",
       "      <td>1.0</td>\n",
       "      <td>1.0</td>\n",
       "      <td>1.0</td>\n",
       "      <td>1.0</td>\n",
       "    </tr>\n",
       "    <tr>\n",
       "      <th>2</th>\n",
       "      <td>3.0</td>\n",
       "      <td>1.0</td>\n",
       "      <td>1.0</td>\n",
       "      <td>1.0</td>\n",
       "      <td>1.0</td>\n",
       "      <td>1.0</td>\n",
       "    </tr>\n",
       "    <tr>\n",
       "      <th>3</th>\n",
       "      <td>4.0</td>\n",
       "      <td>1.0</td>\n",
       "      <td>1.0</td>\n",
       "      <td>1.0</td>\n",
       "      <td>1.0</td>\n",
       "      <td>1.0</td>\n",
       "    </tr>\n",
       "    <tr>\n",
       "      <th>4</th>\n",
       "      <td>5.0</td>\n",
       "      <td>1.0</td>\n",
       "      <td>1.0</td>\n",
       "      <td>1.0</td>\n",
       "      <td>1.0</td>\n",
       "      <td>1.0</td>\n",
       "    </tr>\n",
       "  </tbody>\n",
       "</table>\n",
       "</div>"
      ],
      "text/plain": [
       "   symbol  date  5-day  10-day  15-day  20-day\n",
       "0     1.0   1.0    1.0     1.0     1.0     1.0\n",
       "1     2.0   1.0    1.0     1.0     1.0     1.0\n",
       "2     3.0   1.0    1.0     1.0     1.0     1.0\n",
       "3     4.0   1.0    1.0     1.0     1.0     1.0\n",
       "4     5.0   1.0    1.0     1.0     1.0     1.0"
      ]
     },
     "execution_count": 20,
     "metadata": {},
     "output_type": "execute_result"
    }
   ],
   "source": [
    "import pandas as pd\n",
    "a = pd.DataFrame({\"symbol\":[], \"date\":[], \"5-day\":[], \"10-day\":[], \"15-day\":[], \"20-day\":[]})\n",
    "a = a.append(pd.DataFrame({\"symbol\":[1], \"date\":[1], \"5-day\":[1], \"10-day\":[1], \"15-day\":[1], \"20-day\":[1]}), ignore_index=True)\n",
    "a = a.append(pd.DataFrame({\"symbol\":[2], \"date\":[1], \"5-day\":[1], \"10-day\":[1], \"15-day\":[1], \"20-day\":[1]}), ignore_index=True)\n",
    "a = a.append(pd.DataFrame({\"symbol\":[3], \"date\":[1], \"5-day\":[1], \"10-day\":[1], \"15-day\":[1], \"20-day\":[1]}), ignore_index=True)\n",
    "a = a.append(pd.DataFrame({\"symbol\":[4], \"date\":[1], \"5-day\":[1], \"10-day\":[1], \"15-day\":[1], \"20-day\":[1]}), ignore_index=True)\n",
    "a = a.append(pd.DataFrame({\"symbol\":[5], \"date\":[1], \"5-day\":[1], \"10-day\":[1], \"15-day\":[1], \"20-day\":[1]}), ignore_index=True)\n",
    "a"
   ]
  },
  {
   "cell_type": "code",
   "execution_count": 61,
   "id": "01bf88bc-25ff-4741-895f-e804bd33bd7d",
   "metadata": {},
   "outputs": [
    {
     "data": {
      "text/html": [
       "<div>\n",
       "<style scoped>\n",
       "    .dataframe tbody tr th:only-of-type {\n",
       "        vertical-align: middle;\n",
       "    }\n",
       "\n",
       "    .dataframe tbody tr th {\n",
       "        vertical-align: top;\n",
       "    }\n",
       "\n",
       "    .dataframe thead th {\n",
       "        text-align: right;\n",
       "    }\n",
       "</style>\n",
       "<table border=\"1\" class=\"dataframe\">\n",
       "  <thead>\n",
       "    <tr style=\"text-align: right;\">\n",
       "      <th></th>\n",
       "      <th>symbol</th>\n",
       "      <th>5-day</th>\n",
       "      <th>10-day</th>\n",
       "      <th>20-day</th>\n",
       "      <th>30-day</th>\n",
       "      <th>40-day</th>\n",
       "      <th>50-day</th>\n",
       "      <th>60-day</th>\n",
       "      <th>90-day</th>\n",
       "      <th>b10</th>\n",
       "      <th>b20</th>\n",
       "      <th>b30</th>\n",
       "    </tr>\n",
       "    <tr>\n",
       "      <th>date</th>\n",
       "      <th></th>\n",
       "      <th></th>\n",
       "      <th></th>\n",
       "      <th></th>\n",
       "      <th></th>\n",
       "      <th></th>\n",
       "      <th></th>\n",
       "      <th></th>\n",
       "      <th></th>\n",
       "      <th></th>\n",
       "      <th></th>\n",
       "      <th></th>\n",
       "    </tr>\n",
       "  </thead>\n",
       "  <tbody>\n",
       "    <tr>\n",
       "      <th>2021-02-04</th>\n",
       "      <td>AAT</td>\n",
       "      <td>6.24</td>\n",
       "      <td>2.73</td>\n",
       "      <td>21.32</td>\n",
       "      <td>18.34</td>\n",
       "      <td>13.96</td>\n",
       "      <td>17.95</td>\n",
       "      <td>23.32</td>\n",
       "      <td>34.99</td>\n",
       "      <td>32.26</td>\n",
       "      <td>13.67</td>\n",
       "      <td>16.65</td>\n",
       "    </tr>\n",
       "    <tr>\n",
       "      <th>2021-07-09</th>\n",
       "      <td>ABTX</td>\n",
       "      <td>-4.02</td>\n",
       "      <td>-5.28</td>\n",
       "      <td>2.14</td>\n",
       "      <td>0.54</td>\n",
       "      <td>-2.87</td>\n",
       "      <td>-4.26</td>\n",
       "      <td>4.21</td>\n",
       "      <td>15.52</td>\n",
       "      <td>20.80</td>\n",
       "      <td>13.38</td>\n",
       "      <td>14.98</td>\n",
       "    </tr>\n",
       "    <tr>\n",
       "      <th>2021-06-22</th>\n",
       "      <td>ACM</td>\n",
       "      <td>3.33</td>\n",
       "      <td>2.00</td>\n",
       "      <td>0.94</td>\n",
       "      <td>-0.57</td>\n",
       "      <td>2.76</td>\n",
       "      <td>6.54</td>\n",
       "      <td>7.20</td>\n",
       "      <td>12.15</td>\n",
       "      <td>10.15</td>\n",
       "      <td>11.21</td>\n",
       "      <td>12.72</td>\n",
       "    </tr>\n",
       "    <tr>\n",
       "      <th>2021-07-21</th>\n",
       "      <td>ACM</td>\n",
       "      <td>1.50</td>\n",
       "      <td>-1.50</td>\n",
       "      <td>1.80</td>\n",
       "      <td>5.54</td>\n",
       "      <td>6.20</td>\n",
       "      <td>1.74</td>\n",
       "      <td>1.93</td>\n",
       "      <td>16.19</td>\n",
       "      <td>17.69</td>\n",
       "      <td>14.39</td>\n",
       "      <td>10.65</td>\n",
       "    </tr>\n",
       "    <tr>\n",
       "      <th>2021-06-22</th>\n",
       "      <td>ADM</td>\n",
       "      <td>-1.69</td>\n",
       "      <td>-2.82</td>\n",
       "      <td>-5.74</td>\n",
       "      <td>-4.69</td>\n",
       "      <td>-1.20</td>\n",
       "      <td>-3.21</td>\n",
       "      <td>2.21</td>\n",
       "      <td>5.19</td>\n",
       "      <td>8.01</td>\n",
       "      <td>10.93</td>\n",
       "      <td>9.88</td>\n",
       "    </tr>\n",
       "    <tr>\n",
       "      <th>...</th>\n",
       "      <td>...</td>\n",
       "      <td>...</td>\n",
       "      <td>...</td>\n",
       "      <td>...</td>\n",
       "      <td>...</td>\n",
       "      <td>...</td>\n",
       "      <td>...</td>\n",
       "      <td>...</td>\n",
       "      <td>...</td>\n",
       "      <td>...</td>\n",
       "      <td>...</td>\n",
       "      <td>...</td>\n",
       "    </tr>\n",
       "    <tr>\n",
       "      <th>2021-03-08</th>\n",
       "      <td>WTRG</td>\n",
       "      <td>5.39</td>\n",
       "      <td>1.85</td>\n",
       "      <td>9.42</td>\n",
       "      <td>14.64</td>\n",
       "      <td>12.46</td>\n",
       "      <td>10.86</td>\n",
       "      <td>13.08</td>\n",
       "      <td>14.19</td>\n",
       "      <td>12.34</td>\n",
       "      <td>4.77</td>\n",
       "      <td>-0.45</td>\n",
       "    </tr>\n",
       "    <tr>\n",
       "      <th>2021-08-23</th>\n",
       "      <td>XOM</td>\n",
       "      <td>0.46</td>\n",
       "      <td>-0.66</td>\n",
       "      <td>-2.31</td>\n",
       "      <td>12.22</td>\n",
       "      <td>15.64</td>\n",
       "      <td>18.05</td>\n",
       "      <td>18.41</td>\n",
       "      <td>10.71</td>\n",
       "      <td>11.37</td>\n",
       "      <td>13.02</td>\n",
       "      <td>-1.51</td>\n",
       "    </tr>\n",
       "    <tr>\n",
       "      <th>2021-06-22</th>\n",
       "      <td>ZION</td>\n",
       "      <td>-0.23</td>\n",
       "      <td>-2.86</td>\n",
       "      <td>-2.23</td>\n",
       "      <td>-1.12</td>\n",
       "      <td>1.55</td>\n",
       "      <td>8.24</td>\n",
       "      <td>9.24</td>\n",
       "      <td>19.03</td>\n",
       "      <td>21.89</td>\n",
       "      <td>21.26</td>\n",
       "      <td>20.15</td>\n",
       "    </tr>\n",
       "    <tr>\n",
       "      <th>2021-02-05</th>\n",
       "      <td>ZTS</td>\n",
       "      <td>4.66</td>\n",
       "      <td>0.55</td>\n",
       "      <td>-8.87</td>\n",
       "      <td>-2.29</td>\n",
       "      <td>-2.12</td>\n",
       "      <td>5.94</td>\n",
       "      <td>9.10</td>\n",
       "      <td>15.59</td>\n",
       "      <td>15.04</td>\n",
       "      <td>24.46</td>\n",
       "      <td>17.88</td>\n",
       "    </tr>\n",
       "    <tr>\n",
       "      <th>2021-03-08</th>\n",
       "      <td>ZTS</td>\n",
       "      <td>6.68</td>\n",
       "      <td>7.22</td>\n",
       "      <td>7.41</td>\n",
       "      <td>16.25</td>\n",
       "      <td>19.72</td>\n",
       "      <td>17.20</td>\n",
       "      <td>19.15</td>\n",
       "      <td>37.95</td>\n",
       "      <td>30.73</td>\n",
       "      <td>30.54</td>\n",
       "      <td>21.70</td>\n",
       "    </tr>\n",
       "  </tbody>\n",
       "</table>\n",
       "<p>258 rows × 12 columns</p>\n",
       "</div>"
      ],
      "text/plain": [
       "           symbol  5-day  10-day  20-day  30-day  40-day  50-day  60-day  \\\n",
       "date                                                                       \n",
       "2021-02-04    AAT   6.24    2.73   21.32   18.34   13.96   17.95   23.32   \n",
       "2021-07-09   ABTX  -4.02   -5.28    2.14    0.54   -2.87   -4.26    4.21   \n",
       "2021-06-22    ACM   3.33    2.00    0.94   -0.57    2.76    6.54    7.20   \n",
       "2021-07-21    ACM   1.50   -1.50    1.80    5.54    6.20    1.74    1.93   \n",
       "2021-06-22    ADM  -1.69   -2.82   -5.74   -4.69   -1.20   -3.21    2.21   \n",
       "...           ...    ...     ...     ...     ...     ...     ...     ...   \n",
       "2021-03-08   WTRG   5.39    1.85    9.42   14.64   12.46   10.86   13.08   \n",
       "2021-08-23    XOM   0.46   -0.66   -2.31   12.22   15.64   18.05   18.41   \n",
       "2021-06-22   ZION  -0.23   -2.86   -2.23   -1.12    1.55    8.24    9.24   \n",
       "2021-02-05    ZTS   4.66    0.55   -8.87   -2.29   -2.12    5.94    9.10   \n",
       "2021-03-08    ZTS   6.68    7.22    7.41   16.25   19.72   17.20   19.15   \n",
       "\n",
       "            90-day    b10    b20    b30  \n",
       "date                                     \n",
       "2021-02-04   34.99  32.26  13.67  16.65  \n",
       "2021-07-09   15.52  20.80  13.38  14.98  \n",
       "2021-06-22   12.15  10.15  11.21  12.72  \n",
       "2021-07-21   16.19  17.69  14.39  10.65  \n",
       "2021-06-22    5.19   8.01  10.93   9.88  \n",
       "...            ...    ...    ...    ...  \n",
       "2021-03-08   14.19  12.34   4.77  -0.45  \n",
       "2021-08-23   10.71  11.37  13.02  -1.51  \n",
       "2021-06-22   19.03  21.89  21.26  20.15  \n",
       "2021-02-05   15.59  15.04  24.46  17.88  \n",
       "2021-03-08   37.95  30.73  30.54  21.70  \n",
       "\n",
       "[258 rows x 12 columns]"
      ]
     },
     "execution_count": 61,
     "metadata": {},
     "output_type": "execute_result"
    }
   ],
   "source": [
    "import pickle\n",
    "with open(\"signals_open_beta2_div_2.pd\", 'rb') as f:\n",
    "    signals = pickle.load(f)\n",
    "signals['b10'] = signals['90-day'] - signals['10-day']\n",
    "signals['b20'] = signals['90-day'] - signals['20-day']\n",
    "signals['b30'] = signals['90-day'] - signals['30-day']\n",
    "signals.set_index('date')"
   ]
  },
  {
   "cell_type": "code",
   "execution_count": 59,
   "id": "f65b72f9-8686-458a-8e8d-62941a1998f9",
   "metadata": {},
   "outputs": [
    {
     "data": {
      "text/plain": [
       "Index(['symbol', 'date', '5-day', '10-day', '20-day', '30-day', '40-day',\n",
       "       '50-day', '60-day', '90-day', 'b10', 'b20', 'b30'],\n",
       "      dtype='object')"
      ]
     },
     "execution_count": 59,
     "metadata": {},
     "output_type": "execute_result"
    }
   ],
   "source": [
    "signals.columns"
   ]
  },
  {
   "cell_type": "code",
   "execution_count": 60,
   "id": "4490971a-6e0c-44c9-851f-1835cc27f72d",
   "metadata": {},
   "outputs": [
    {
     "name": "stdout",
     "output_type": "stream",
     "text": [
      "mean gain for 5-day: 0.9009302325581394, stdev: 3.2660568788631954\n",
      "mean gain for 10-day: 1.2308139534883722, stdev: 4.7865206850857716\n",
      "mean gain for 20-day: 2.7099224806201545, stdev: 6.342354139047722\n",
      "mean gain for 30-day: 4.596434108527132, stdev: 7.774604102268056\n",
      "mean gain for 40-day: 6.02422480620155, stdev: 8.099114015762224\n",
      "mean gain for 50-day: 6.892829457364342, stdev: 9.845708586289398\n",
      "mean gain for 60-day: 8.958217054263566, stdev: 11.432745682972959\n",
      "mean gain for 90-day: 12.016046511627907, stdev: 15.085402969516329\n",
      "mean gain for b10: 10.785232558139535, stdev: 14.504343564650766\n",
      "mean gain for b20: 9.306124031007752, stdev: 12.349708691413193\n",
      "mean gain for b30: 7.419612403100775, stdev: 11.3714107624587\n"
     ]
    }
   ],
   "source": [
    "for c in ['5-day', '10-day', '20-day', '30-day', '40-day', '50-day', '60-day', '90-day', 'b10', 'b20', 'b30']:\n",
    "    print(f\"mean gain for {c}: {signals[c].mean()}, stdev: {signals[c].std()}\")"
   ]
  },
  {
   "cell_type": "code",
   "execution_count": 87,
   "id": "348ce4c7-08fb-47a6-badf-36b41c451af9",
   "metadata": {},
   "outputs": [
    {
     "data": {
      "image/png": "[encoded data removed]",
      "text/plain": [
       "<Figure size 1440x576 with 1 Axes>"
      ]
     },
     "metadata": {
      "needs_background": "light"
     },
     "output_type": "display_data"
    }
   ],
   "source": [
    "import matplotlib.pyplot as plt\n",
    "x = signals.index\n",
    "y = signals['90-day']\n",
    "\n",
    "for i, binwidth in enumerate([1]):\n",
    "    f=plt.figure()\n",
    "    f.set_figwidth(20)\n",
    "    f.set_figheight(8)\n",
    "\n",
    "    # Set up the plot\n",
    "    ax = plt.subplot(1, 1, i + 1)\n",
    "    \n",
    "    # Draw the plot\n",
    "    ax.hist(y, bins = int(100/binwidth),\n",
    "             color = '#E69F00')\n",
    "    \n",
    "    # Title and labels\n",
    "    ax.set_title('Histogram with Binwidth = %d' % binwidth)\n",
    "    ax.set_xlabel('Return pct')\n",
    "    ax.set_ylabel('Signals')\n",
    "\n",
    "\n",
    "\n",
    "plt.show()"
   ]
  },
  {
   "cell_type": "code",
   "execution_count": 100,
   "id": "e3d15959-5347-4a6e-bf4c-c161c23f3e6f",
   "metadata": {},
   "outputs": [
    {
     "data": {
      "image/png": "[encoded data removed]",
      "text/plain": [
       "<Figure size 1440x216 with 1 Axes>"
      ]
     },
     "metadata": {
      "needs_background": "light"
     },
     "output_type": "display_data"
    }
   ],
   "source": [
    "d = API.get_historical_ohlc(\"gef\")\n",
    "d['rsi'] = Metrics.get_rsi(d['close'], 21)\n",
    "d = d[21:]\n",
    "d['norm_rsi'] = Metrics.normalize(d['rsi'])\n",
    "chart(d, col=\"norm_rsi\")"
   ]
  },
  {
   "cell_type": "code",
   "execution_count": 92,
   "id": "9c271193-9615-43e2-8e09-a584e5671f74",
   "metadata": {},
   "outputs": [
    {
     "data": {
      "image/png": "[encoded data removed]",
      "text/plain": [
       "<Figure size 1440x216 with 1 Axes>"
      ]
     },
     "metadata": {
      "needs_background": "light"
     },
     "output_type": "display_data"
    }
   ],
   "source": [
    "chart(d, col=\"norm_rsi\")"
   ]
  },
  {
   "cell_type": "code",
   "execution_count": 51,
   "id": "58e979b4-9557-4d94-ac53-c823a7d0553f",
   "metadata": {},
   "outputs": [
    {
     "data": {
      "text/plain": [
       "date\n",
       "2020-01-02         NaN\n",
       "2020-01-03    2.803308\n",
       "2020-01-06    2.803308\n",
       "2020-01-07    1.658963\n",
       "2020-01-08    2.317048\n",
       "                ...   \n",
       "2021-12-17   -0.262950\n",
       "2021-12-20   -0.232649\n",
       "2021-12-21   -0.361190\n",
       "2021-12-22   -0.206136\n",
       "2021-12-23   -0.179594\n",
       "Name: rsi, Length: 500, dtype: float64"
      ]
     },
     "execution_count": 51,
     "metadata": {},
     "output_type": "execute_result"
    }
   ],
   "source": [
    "x = d['rsi']\n",
    "( x - x.mean() ) / x.std()"
   ]
  },
  {
   "cell_type": "code",
   "execution_count": 45,
   "id": "a0621082-06b6-4ece-8b92-27964cd0b8b8",
   "metadata": {},
   "outputs": [
    {
     "data": {
      "text/plain": [
       "False"
      ]
     },
     "execution_count": 45,
     "metadata": {},
     "output_type": "execute_result"
    }
   ],
   "source": [
    "any(d[-5:].rsi.values < 40)"
   ]
  },
  {
   "cell_type": "code",
   "execution_count": 109,
   "id": "b921fb29-92ce-450a-9725-2da23f901021",
   "metadata": {},
   "outputs": [],
   "source": [
    "import smtplib, ssl\n",
    "from email.message import EmailMessage\n",
    "\n",
    "port = 465  # For SSL\n",
    "password = \"ztycurkjzkvxlynb\"\n",
    "\n",
    "# Create a secure SSL context\n",
    "context = ssl.create_default_context()\n",
    "me = \"faysalkhatri@gmail.com\"\n",
    "with smtplib.SMTP_SSL(\"smtp.gmail.com\", port, context=context) as server:\n",
    "    server.login(me, password)\n",
    "    # TODO: Send email here\n",
    "    msg = EmailMessage()\n",
    "    msg['Subject'] = f'happy Birthday.'\n",
    "    msg['To'] = me\n",
    "    msg.set_content(\"\"\"\\\n",
    "    Salut!\n",
    "\n",
    "    Cela ressemble à un excellent recipie[1] déjeuner.\n",
    "\n",
    "    [1] http://www.yummly.com/recipe/Roasted-Asparagus-Epicurious-203718\n",
    "\n",
    "    --Pepé\n",
    "    \"\"\")\n",
    "\n",
    "    server.send_message(msg)\n",
    "    server.quit()"
   ]
  },
  {
   "cell_type": "code",
   "execution_count": null,
   "id": "b1b99f09-0903-45ab-bba0-3ad1db6f416f",
   "metadata": {},
   "outputs": [],
   "source": [
    "# Import smtplib for the actual sending function\n",
    "import smtplib\n",
    "\n",
    "# Import the email modules we'll need\n",
    "from email.message import EmailMessage\n",
    "\n",
    "# Open the plain text file whose name is in textfile for reading.\n",
    "with open(textfile) as fp:\n",
    "    # Create a text/plain message\n",
    "    msg = EmailMessage()\n",
    "    msg.set_content(fp.read())\n",
    "\n",
    "# me == the sender's email address\n",
    "# you == the recipient's email address\n",
    "msg['Subject'] = f'The contents of {textfile}'\n",
    "msg['From'] = me\n",
    "msg['To'] = you\n",
    "\n",
    "# Send the message via our own SMTP server.\n",
    "s = smtplib.SMTP('localhost')\n",
    "s.send_message(msg)\n",
    "s.quit()"
   ]
  },
  {
   "cell_type": "code",
   "execution_count": 5,
   "id": "d035e221-9846-40e8-8ee5-b766a659572f",
   "metadata": {},
   "outputs": [
    {
     "name": "stdout",
     "output_type": "stream",
     "text": [
      "Blackstone Inc. (BX)\n",
      "Financial Services, Asset Management\n",
      "\n",
      "Market Cap: $86.23B\n",
      "Dividend Yield: 2.94%\n",
      "Average Volume: 3835790\n",
      "Beta: 1.346173\n",
      "IPO Date: 2007-06-22\n",
      "\n",
      "Upcoming and Recent EPS:\n",
      "date\t\test\tact\tsurp\tsurp %\n",
      "2022-01-27\t1.31\tnan\tnan\tnan\n",
      "2021-10-21\t0.91\t1.28\t0.37\t40.7\n",
      "2021-07-22\t0.8\t0.82\t0.02\t2.5\n",
      "2021-04-22\t0.76\t0.96\t0.2\t26.3\n",
      "\n",
      "https://www.blackstone.com\n",
      "Blackstone (China) Equity Investment Fund specializes in growth investments in alternative energy, environmental, and medical sectors. The fund prefers to invest in China primarily in Beijing, Hong Kong, and Shangai with a focus on the Pudong Area. Blackstone Inc. is an alternative asset management firm specializing in real estate, private equity, hedge fund solutions, credit, secondary funds of funds, public debt and equity and multi-asset class strategies. The firm typically invests in early-stage companies. It also provide capital markets services. The real estate segment specializes in opportunistic, core+ investments as well as debt investment opportunities collateralized by commercial real estate, and stabilized income-oriented commercial real estate across North America, Europe and Asia. The firm's corporate private equity business pursues transactions throughout the world across a variety of transaction types, including large buyouts,special situations, distressed mortgage loans,growth investments, mid-cap buyouts, buy and build platforms, which involves multiple acquisitions behind a single management team and platform, and growth equity/development projects involving significant majority stakes in portfolio companies and minority investments in operating companies, shipping, real estate, corporate or consumer loans, and environmental, medical sectors alternative energy greenfield development projects in energy and power, property, dislocated markets, shipping opportunities, financial institution breakups, re-insurance, and improving freight mobility, financial services, healthcare, life sciences, enterprise tech and consumer, as well as consumer technologies. The fund considers investment in China primarily in Beijing, Hong Kong, Shangai with a focus on the Pudong Area, Asia and Latin America. It has a three year investment period. Its hedge fund business manages a broad range of commingled and customized fund solutions and its credit business focuses on loans, and securities of non-investment grade companies spread across the capital structure including senior debt, subordinated debt, preferred stock and common equity. Blackstone Inc. was founded in 1985 and is headquartered in New York, New York with additional offices across Asia, Europe and North America.\n",
      "\n"
     ]
    }
   ],
   "source": [
    "from API import API\n",
    "\n",
    "print(API.get_profile_string(\"BX\"))"
   ]
  },
  {
   "cell_type": "code",
   "execution_count": 6,
   "id": "6336e430-8eb0-4c41-806f-4b8e59f84911",
   "metadata": {},
   "outputs": [],
   "source": [
    "import pickle\n",
    "\n",
    "x = [['BX', 'FTNT'],\n",
    "     ['BR', 'BX', 'CBOE', 'CNXC', 'GOOG', 'GOOGL', 'HUM', 'LSI', 'MCO', 'NOVT', 'TXN'],\n",
    "     [],\n",
    "     [],\n",
    "     []\n",
    "    ]\n",
    "\n",
    "with open(f\"../data/last_signals.pickle\", 'wb') as f:\n",
    "            pickle.dump(x, f, protocol=pickle.HIGHEST_PROTOCOL)"
   ]
  },
  {
   "cell_type": "code",
   "execution_count": 10,
   "id": "05a8f69c-0fe3-4b3e-b9b7-9dea0d8862f7",
   "metadata": {},
   "outputs": [
    {
     "name": "stdout",
     "output_type": "stream",
     "text": [
      "[['BX', 'FTNT'], ['BR', 'BX', 'CBOE', 'CNXC', 'GOOG', 'GOOGL', 'HUM', 'LSI', 'MCO', 'NOVT', 'TXN'], [], [], []]\n"
     ]
    }
   ],
   "source": [
    "with open(f\"../data/last_signals.pickle\", 'rb') as f:\n",
    "    _x = pickle.load(f)\n",
    "    print(_x)"
   ]
  },
  {
   "cell_type": "code",
   "execution_count": 11,
   "id": "cce19619-6120-49bd-92ea-b47682f3683b",
   "metadata": {},
   "outputs": [
    {
     "name": "stdout",
     "output_type": "stream",
     "text": [
      "['BX', 'FTNT', 'BR', 'BX', 'CBOE', 'CNXC', 'GOOG', 'GOOGL', 'HUM', 'LSI', 'MCO', 'NOVT', 'TXN']\n"
     ]
    }
   ],
   "source": [
    "y = []\n",
    "for i in _x:\n",
    "    y.extend(i)\n",
    "    \n",
    "print(y)"
   ]
  }
 ],
 "metadata": {
  "kernelspec": {
   "display_name": "Python 3",
   "language": "python",
   "name": "python3"
  },
  "language_info": {
   "codemirror_mode": {
    "name": "ipython",
    "version": 3
   },
   "file_extension": ".py",
   "mimetype": "text/x-python",
   "name": "python",
   "nbconvert_exporter": "python",
   "pygments_lexer": "ipython3",
   "version": "3.9.4"
  }
 },
 "nbformat": 4,
 "nbformat_minor": 5
}
